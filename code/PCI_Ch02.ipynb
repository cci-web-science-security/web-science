{
  "cells": [
    {
      "cell_type": "markdown",
      "metadata": {
        "colab_type": "text",
        "id": "view-in-github"
      },
      "source": [
        "<a href=\"https://colab.research.google.com/github/odu-cs432-websci/public-cova-cci/blob/main/code/PCI_Ch02.ipynb\" target=\"_parent\"><img src=\"https://colab.research.google.com/assets/colab-badge.svg\" alt=\"Open In Colab\"/></a>"
      ]
    },
    {
      "attachments": {},
      "cell_type": "markdown",
      "metadata": {
        "id": "ZdZS8TuJh4AG"
      },
      "source": [
        "## Source from Ch 2, PCI\n",
        "\n",
        "Ch 2 \"Making Recommendations\" from *Programming Collective Intelligence*, based on code from  \n",
        "https://github.com/arthur-e/Programming-Collective-Intelligence/blob/master/chapter2/recommendations.py"
      ]
    },
    {
      "cell_type": "markdown",
      "metadata": {
        "id": "cDrDbQy6iS9d"
      },
      "source": [
        "First, set up the dictionary of movie critics and ratings."
      ]
    },
    {
      "cell_type": "code",
      "execution_count": null,
      "metadata": {
        "id": "qdJ66XRciDa4"
      },
      "outputs": [],
      "source": [
        "critics = {\n",
        "    'Lisa Rose': {\n",
        "        'Lady in the Water': 2.5,\n",
        "        'Snakes on a Plane': 3.5,\n",
        "        'Just My Luck': 3.0,\n",
        "        'Superman Returns': 3.5,\n",
        "        'You, Me and Dupree': 2.5,\n",
        "        'The Night Listener': 3.0,\n",
        "    },\n",
        "    'Gene Seymour': {\n",
        "        'Lady in the Water': 3.0,\n",
        "        'Snakes on a Plane': 3.5,\n",
        "        'Just My Luck': 1.5,\n",
        "        'Superman Returns': 5.0,\n",
        "        'The Night Listener': 3.0,\n",
        "        'You, Me and Dupree': 3.5,\n",
        "    },\n",
        "    'Michael Phillips': {\n",
        "        'Lady in the Water': 2.5,\n",
        "        'Snakes on a Plane': 3.0,\n",
        "        'Superman Returns': 3.5,\n",
        "        'The Night Listener': 4.0,\n",
        "    },\n",
        "    'Claudia Puig': {\n",
        "        'Snakes on a Plane': 3.5,\n",
        "        'Just My Luck': 3.0,\n",
        "        'The Night Listener': 4.5,\n",
        "        'Superman Returns': 4.0,\n",
        "        'You, Me and Dupree': 2.5,\n",
        "    },\n",
        "    'Mick LaSalle': {\n",
        "        'Lady in the Water': 3.0,\n",
        "        'Snakes on a Plane': 4.0,\n",
        "        'Just My Luck': 2.0,\n",
        "        'Superman Returns': 3.0,\n",
        "        'The Night Listener': 3.0,\n",
        "        'You, Me and Dupree': 2.0,\n",
        "    },\n",
        "    'Jack Matthews': {\n",
        "        'Lady in the Water': 3.0,\n",
        "        'Snakes on a Plane': 4.0,\n",
        "        'The Night Listener': 3.0,\n",
        "        'Superman Returns': 5.0,\n",
        "        'You, Me and Dupree': 3.5,\n",
        "    },\n",
        "    'Toby': {\n",
        "        'Snakes on a Plane': 4.5, \n",
        "        'You, Me and Dupree': 1.0,\n",
        "        'Superman Returns': 4.0\n",
        "    },\n",
        "}"
      ]
    },
    {
      "cell_type": "markdown",
      "metadata": {
        "id": "3E3gzSRxilPV"
      },
      "source": [
        "Examples from pg. 9"
      ]
    },
    {
      "cell_type": "code",
      "execution_count": null,
      "metadata": {
        "colab": {
          "base_uri": "https://localhost:8080/",
          "height": 34
        },
        "id": "XWh5NpujimeC",
        "outputId": "15f2cc88-d7bb-4eb4-b67a-e9da3d078e74"
      },
      "outputs": [
        {
          "data": {
            "text/plain": [
              "2.5"
            ]
          },
          "execution_count": 3,
          "metadata": {
            "tags": []
          },
          "output_type": "execute_result"
        }
      ],
      "source": [
        "critics['Lisa Rose']['Lady in the Water']"
      ]
    },
    {
      "cell_type": "code",
      "execution_count": null,
      "metadata": {
        "colab": {
          "base_uri": "https://localhost:8080/",
          "height": 34
        },
        "id": "WH91V2EtisGJ",
        "outputId": "9d7e81f2-f9de-431f-dd8a-776d4b9faa50"
      },
      "outputs": [
        {
          "data": {
            "text/plain": [
              "{'Snakes on a Plane': 4.5, 'Superman Returns': 4.0, 'You, Me and Dupree': 1.0}"
            ]
          },
          "execution_count": 4,
          "metadata": {
            "tags": []
          },
          "output_type": "execute_result"
        }
      ],
      "source": [
        "critics['Toby']"
      ]
    },
    {
      "cell_type": "markdown",
      "metadata": {
        "id": "SA_K5bihiyGR"
      },
      "source": [
        "Next, add the modified Euclidean distance score (similarity [0,1])"
      ]
    },
    {
      "cell_type": "code",
      "execution_count": null,
      "metadata": {
        "id": "2StpZ_m4i1tn"
      },
      "outputs": [],
      "source": [
        "from math import sqrt\n",
        "\n",
        "def sim_distance(prefs, p1, p2):\n",
        "    '''\n",
        "    Returns a distance-based similarity score for person1 and person2.\n",
        "    '''\n",
        "\n",
        "    # Get the list of shared_items\n",
        "    si = {}\n",
        "    for item in prefs[p1]:\n",
        "        if item in prefs[p2]:\n",
        "            si[item] = 1\n",
        "\n",
        "    # If they have no ratings in common, return 0\n",
        "    if len(si) == 0:\n",
        "        return 0\n",
        "\n",
        "    # Add up the squares of all the differences\n",
        "    sum_of_squares = sum([pow(prefs[p1][item] - prefs[p2][item], 2)\n",
        "                          for item in si])\n",
        "\n",
        "    return 1 / (1 + sqrt(sum_of_squares))\n"
      ]
    },
    {
      "cell_type": "markdown",
      "metadata": {
        "id": "qKDnWj9SjB2H"
      },
      "source": [
        "Example from pg. 11 (*doesn't match book...*)"
      ]
    },
    {
      "cell_type": "code",
      "execution_count": null,
      "metadata": {
        "colab": {
          "base_uri": "https://localhost:8080/",
          "height": 34
        },
        "id": "DjQAuawNjDMH",
        "outputId": "3c31f612-6bf4-4367-f018-b0eb35e48846"
      },
      "outputs": [
        {
          "data": {
            "text/plain": [
              "0.29429805508554946"
            ]
          },
          "execution_count": 6,
          "metadata": {
            "tags": []
          },
          "output_type": "execute_result"
        }
      ],
      "source": [
        "sim_distance(critics, 'Lisa Rose', 'Gene Seymour')"
      ]
    },
    {
      "cell_type": "markdown",
      "metadata": {
        "id": "h4ajZeTykvTB"
      },
      "source": [
        "Add Pearson correlation function"
      ]
    },
    {
      "cell_type": "code",
      "execution_count": null,
      "metadata": {
        "id": "E8r_f6rDky0J"
      },
      "outputs": [],
      "source": [
        "def sim_pearson(prefs, p1, p2):\n",
        "    '''\n",
        "    Returns the Pearson correlation coefficient for p1 and p2.\n",
        "    '''\n",
        "\n",
        "    # Get the list of mutually rated items\n",
        "    si = {}\n",
        "    for item in prefs[p1]:\n",
        "        if item in prefs[p2]:\n",
        "            si[item] = 1\n",
        "    \n",
        "    # If they are no ratings in common, return 0\n",
        "    if len(si) == 0:\n",
        "        return 0\n",
        "    \n",
        "    # Sum calculations\n",
        "    n = len(si)\n",
        "    \n",
        "    # Sums of all the preferences\n",
        "    sum1 = sum([prefs[p1][it] for it in si])\n",
        "    sum2 = sum([prefs[p2][it] for it in si])\n",
        "    \n",
        "    # Sums of the squares\n",
        "    sum1Sq = sum([pow(prefs[p1][it], 2) for it in si])\n",
        "    sum2Sq = sum([pow(prefs[p2][it], 2) for it in si])\n",
        "    \n",
        "    # Sum of the products\n",
        "    pSum = sum([prefs[p1][it] * prefs[p2][it] for it in si])\n",
        "    \n",
        "    # Calculate r (Pearson score)\n",
        "    num = pSum - sum1 * sum2 / n\n",
        "    den = sqrt((sum1Sq - pow(sum1, 2) / n) * (sum2Sq - pow(sum2, 2) / n))\n",
        "    if den == 0:\n",
        "        return 0\n",
        "    r = num / den\n",
        "    return r"
      ]
    },
    {
      "cell_type": "markdown",
      "metadata": {
        "id": "3nKx5swmk466"
      },
      "source": [
        "Example from pg. 14"
      ]
    },
    {
      "cell_type": "code",
      "execution_count": null,
      "metadata": {
        "colab": {
          "base_uri": "https://localhost:8080/",
          "height": 34
        },
        "id": "qfg_iOqEk7NY",
        "outputId": "90a16c57-fe36-472a-f361-182c5baa5ee6"
      },
      "outputs": [
        {
          "data": {
            "text/plain": [
              "0.39605901719066977"
            ]
          },
          "execution_count": 8,
          "metadata": {
            "tags": []
          },
          "output_type": "execute_result"
        }
      ],
      "source": [
        "sim_pearson(critics, 'Lisa Rose', 'Gene Seymour')"
      ]
    },
    {
      "cell_type": "markdown",
      "metadata": {
        "id": "KInMVDEPlOrn"
      },
      "source": [
        "Find closest matches - which critics have tastes similar to mine?"
      ]
    },
    {
      "cell_type": "code",
      "execution_count": null,
      "metadata": {
        "id": "CnpBW8HUlUZW"
      },
      "outputs": [],
      "source": [
        "def topMatches(\n",
        "    prefs,\n",
        "    person,\n",
        "    n=5,\n",
        "    similarity=sim_pearson,\n",
        "):\n",
        "    '''\n",
        "    Returns the best matches for person from the prefs dictionary. \n",
        "    Number of results and similarity function are optional params.\n",
        "    '''\n",
        "\n",
        "    scores = [(similarity(prefs, person, other), other) for other in prefs\n",
        "              if other != person]\n",
        "    scores.sort()\n",
        "    scores.reverse()\n",
        "    return scores[0:n]"
      ]
    },
    {
      "cell_type": "markdown",
      "metadata": {
        "id": "mbc6Mx4nlWOY"
      },
      "source": [
        "Example from pg. 15"
      ]
    },
    {
      "cell_type": "code",
      "execution_count": null,
      "metadata": {
        "colab": {
          "base_uri": "https://localhost:8080/",
          "height": 69
        },
        "id": "RP3qfgK1lXUY",
        "outputId": "657d5902-6412-4961-b753-4eb8e2c3571b"
      },
      "outputs": [
        {
          "data": {
            "text/plain": [
              "[(0.9912407071619299, 'Lisa Rose'),\n",
              " (0.9244734516419049, 'Mick LaSalle'),\n",
              " (0.8934051474415647, 'Claudia Puig')]"
            ]
          },
          "execution_count": 10,
          "metadata": {
            "tags": []
          },
          "output_type": "execute_result"
        }
      ],
      "source": [
        "topMatches(critics, \"Toby\", n=3)"
      ]
    },
    {
      "cell_type": "markdown",
      "metadata": {
        "id": "ZIQjS-lECucZ"
      },
      "source": [
        "Now we want to use this data to get a movie recommendation"
      ]
    },
    {
      "cell_type": "code",
      "execution_count": null,
      "metadata": {
        "id": "YapTb8wbCxSo"
      },
      "outputs": [],
      "source": [
        "def getRecommendations(prefs, person, similarity=sim_pearson):\n",
        "    '''\n",
        "    Gets recommendations for a person by using a weighted average\n",
        "    of every other user's rankings\n",
        "    '''\n",
        "\n",
        "    totals = {}\n",
        "    simSums = {}\n",
        "    for other in prefs:\n",
        "    # Don't compare me to myself\n",
        "        if other == person:\n",
        "            continue\n",
        "        sim = similarity(prefs, person, other)\n",
        "        # Ignore scores of zero or lower\n",
        "        if sim <= 0:\n",
        "            continue\n",
        "        for item in prefs[other]:\n",
        "            # Only score movies I haven't seen yet\n",
        "            if item not in prefs[person] or prefs[person][item] == 0:\n",
        "                # Similarity * Score\n",
        "                totals.setdefault(item, 0)\n",
        "                # The final score is calculated by multiplying each item by the\n",
        "                #   similarity and adding these products together\n",
        "                totals[item] += prefs[other][item] * sim\n",
        "                # Sum of similarities\n",
        "                simSums.setdefault(item, 0)\n",
        "                simSums[item] += sim\n",
        "    # Create the normalized list\n",
        "    rankings = [(total / simSums[item], item) for (item, total) in\n",
        "                totals.items()]\n",
        "    # Return the sorted list\n",
        "    rankings.sort()\n",
        "    rankings.reverse()\n",
        "    return rankings"
      ]
    },
    {
      "cell_type": "markdown",
      "metadata": {
        "id": "efbWoxHqCzpG"
      },
      "source": [
        "Examples from pg. 17"
      ]
    },
    {
      "cell_type": "code",
      "execution_count": null,
      "metadata": {
        "colab": {
          "base_uri": "https://localhost:8080/",
          "height": 69
        },
        "id": "EgieBGCkC2HO",
        "outputId": "8e7ce249-6075-46d8-9fe0-493dd78efca6"
      },
      "outputs": [
        {
          "data": {
            "text/plain": [
              "[(3.3477895267131017, 'The Night Listener'),\n",
              " (2.8325499182641614, 'Lady in the Water'),\n",
              " (2.530980703765565, 'Just My Luck')]"
            ]
          },
          "execution_count": 12,
          "metadata": {
            "tags": []
          },
          "output_type": "execute_result"
        }
      ],
      "source": [
        "getRecommendations(critics, \"Toby\")"
      ]
    },
    {
      "cell_type": "code",
      "execution_count": null,
      "metadata": {
        "colab": {
          "base_uri": "https://localhost:8080/",
          "height": 69
        },
        "id": "uHoVIhUsC9ER",
        "outputId": "2a985079-bdb7-433b-f19f-7e71230c1a10"
      },
      "outputs": [
        {
          "data": {
            "text/plain": [
              "[(3.457128694491423, 'The Night Listener'),\n",
              " (2.778584003814924, 'Lady in the Water'),\n",
              " (2.422482042361917, 'Just My Luck')]"
            ]
          },
          "execution_count": 13,
          "metadata": {
            "tags": []
          },
          "output_type": "execute_result"
        }
      ],
      "source": [
        "getRecommendations(critics, \"Toby\", similarity=sim_distance)"
      ]
    },
    {
      "cell_type": "markdown",
      "metadata": {
        "id": "alc8LML2DPlI"
      },
      "source": [
        "Now we want to know which movies are like each other.  So, if I like movie X, will I like movie Y?"
      ]
    },
    {
      "cell_type": "markdown",
      "metadata": {
        "id": "1LxLiQ8sDZby"
      },
      "source": [
        "First, we need to swap the rows and columns from our dataset (looking for item similarity instead of critic similarity)."
      ]
    },
    {
      "cell_type": "code",
      "execution_count": null,
      "metadata": {
        "id": "KEqlo00jDVao"
      },
      "outputs": [],
      "source": [
        "def transformPrefs(prefs):\n",
        "    '''\n",
        "    Transform the recommendations into a mapping where persons are described\n",
        "    with interest scores for a given title e.g. {title: person} instead of\n",
        "    {person: title}.\n",
        "    '''\n",
        "\n",
        "    result = {}\n",
        "    for person in prefs:\n",
        "        for item in prefs[person]:\n",
        "            result.setdefault(item, {})\n",
        "            # Flip item and person\n",
        "            result[item][person] = prefs[person][item]\n",
        "    return result"
      ]
    },
    {
      "cell_type": "markdown",
      "metadata": {
        "id": "110rgEccDka8"
      },
      "source": [
        "Examples from pg. 18"
      ]
    },
    {
      "cell_type": "code",
      "execution_count": null,
      "metadata": {
        "id": "KqnbO-MTDoBZ"
      },
      "outputs": [],
      "source": [
        "movies = transformPrefs(critics)"
      ]
    },
    {
      "cell_type": "markdown",
      "metadata": {
        "id": "t3rkDlHwDxok"
      },
      "source": [
        "Now that we have a dataset referenced on movies, we can find movies that are most similar to each other."
      ]
    },
    {
      "cell_type": "code",
      "execution_count": null,
      "metadata": {
        "colab": {
          "base_uri": "https://localhost:8080/",
          "height": 104
        },
        "id": "vbSYnIhfDuO6",
        "outputId": "9694cd42-2698-478a-e599-38e1b87f2fcf"
      },
      "outputs": [
        {
          "data": {
            "text/plain": [
              "[(0.6579516949597695, 'You, Me and Dupree'),\n",
              " (0.4879500364742689, 'Lady in the Water'),\n",
              " (0.11180339887498941, 'Snakes on a Plane'),\n",
              " (-0.1798471947990544, 'The Night Listener'),\n",
              " (-0.42289003161103106, 'Just My Luck')]"
            ]
          },
          "execution_count": 16,
          "metadata": {
            "tags": []
          },
          "output_type": "execute_result"
        }
      ],
      "source": [
        "topMatches(movies, \"Superman Returns\")"
      ]
    }
  ],
  "metadata": {
    "colab": {
      "authorship_tag": "ABX9TyP3Z/SrIJOIX1sBjggnicYT",
      "collapsed_sections": [],
      "include_colab_link": true,
      "name": "PCI-Ch02.ipynb",
      "provenance": []
    },
    "kernelspec": {
      "display_name": "Python 3",
      "language": "python",
      "name": "python3"
    },
    "language_info": {
      "name": "python",
      "version": "3.8.10 (default, Jun 22 2022, 20:18:18) \n[GCC 9.4.0]"
    },
    "vscode": {
      "interpreter": {
        "hash": "31f2aee4e71d21fbe5cf8b01ff0e069b9275f58929596ceb00d14d90e3e16cd6"
      }
    }
  },
  "nbformat": 4,
  "nbformat_minor": 0
}
