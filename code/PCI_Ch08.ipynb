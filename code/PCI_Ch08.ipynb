{
  "cells": [
    {
      "cell_type": "markdown",
      "metadata": {
        "colab_type": "text",
        "id": "view-in-github"
      },
      "source": [
        "<a href=\"https://colab.research.google.com/github/odu-cs432-websci/public-cova-cci/blob/main/code/PCI_Ch08.ipynb\" target=\"_parent\"><img src=\"https://colab.research.google.com/assets/colab-badge.svg\" alt=\"Open In Colab\"/></a>"
      ]
    },
    {
      "attachments": {},
      "cell_type": "markdown",
      "metadata": {
        "id": "1bWBFVx7JQJ2"
      },
      "source": [
        "# K-Nearest Neighbors\n",
        "\n",
        "Ch 8 from *Programming Collective Intelligence*, based on code from  \n",
        "https://github.com/arthur-e/Programming-Collective-Intelligence/tree/master/chapter8\n",
        "\n",
        "**Goal:** Predict the price of a bottle of wine."
      ]
    },
    {
      "cell_type": "markdown",
      "metadata": {
        "id": "mA9MQpqzJdqg"
      },
      "source": [
        "# Build the Dataset\n",
        "\n",
        "Generate a dataset of wine ratings, age, and prices (pgs. 168-169)"
      ]
    },
    {
      "cell_type": "code",
      "execution_count": null,
      "metadata": {
        "id": "zxng9MDPJcyR"
      },
      "outputs": [],
      "source": [
        "from random import random,randint\n",
        "import math"
      ]
    },
    {
      "cell_type": "code",
      "execution_count": null,
      "metadata": {
        "id": "Zx_7T_tjJqXe"
      },
      "outputs": [],
      "source": [
        "def wineprice(rating,age):\n",
        "  peak_age=rating-50\n",
        "  \n",
        "  # Calculate price based on rating\n",
        "  price=rating/2\n",
        "  if age>peak_age:\n",
        "    # Past its peak, goes bad in 10 years\n",
        "    price=price*(5-(age-peak_age)/2)\n",
        "  else:\n",
        "    # Increases to 5x original value as it\n",
        "    # approaches its peak\n",
        "    price=price*(5*((age+1)/peak_age))\n",
        "  if price<0: price=0\n",
        "  return price"
      ]
    },
    {
      "cell_type": "code",
      "execution_count": null,
      "metadata": {
        "id": "SX8uhlOcJr9n"
      },
      "outputs": [],
      "source": [
        "def wineset1():\n",
        "  rows=[]\n",
        "  for i in range(300):\n",
        "    # Create a random age and rating\n",
        "    rating=random()*50+50\n",
        "    age=random()*50\n",
        "\n",
        "    # Get reference price\n",
        "    price=wineprice(rating,age)\n",
        "    \n",
        "    # Add some noise\n",
        "    #price*=(random()*0.2+0.9)\n",
        "    price*=(random()*0.4+0.8)  # changed to match p.168 code\n",
        "\n",
        "    # Add to the dataset\n",
        "    rows.append({'input':(rating,age),\n",
        "                 'result':price})\n",
        "  return rows"
      ]
    },
    {
      "cell_type": "code",
      "execution_count": null,
      "metadata": {
        "colab": {
          "base_uri": "https://localhost:8080/",
          "height": 34
        },
        "id": "qzZlmTJEjgoK",
        "outputId": "e09ed685-f866-4a9c-9741-d30fc786ce19"
      },
      "outputs": [
        {
          "data": {
            "text/plain": [
              "{'input': (64.30597436892485, 49.5844073498069), 'result': 0.0}"
            ]
          },
          "execution_count": 4,
          "metadata": {
            "tags": []
          },
          "output_type": "execute_result"
        }
      ],
      "source": [
        "data = wineset1()\n",
        "data[0]"
      ]
    },
    {
      "cell_type": "markdown",
      "metadata": {
        "id": "EBm9unesgJoz"
      },
      "source": [
        "# Distance Functions"
      ]
    },
    {
      "cell_type": "code",
      "execution_count": null,
      "metadata": {
        "id": "tC9J8Ka2gMZH"
      },
      "outputs": [],
      "source": [
        "def euclidean(v1,v2):\n",
        "  d=0.0\n",
        "  for i in range(len(v1)):\n",
        "    d+=(v1[i]-v2[i])**2\n",
        "  return math.sqrt(d)"
      ]
    },
    {
      "cell_type": "code",
      "execution_count": null,
      "metadata": {
        "id": "gmuUy7uSgOMW"
      },
      "outputs": [],
      "source": [
        "def getdistances(data,vec1):\n",
        "  distancelist=[]\n",
        "  \n",
        "  # Loop over every item in the dataset\n",
        "  for i in range(len(data)):\n",
        "    vec2=data[i]['input']\n",
        "    \n",
        "    # Add the distance and the index\n",
        "    distancelist.append((euclidean(vec1,vec2),i))\n",
        "  \n",
        "  # Sort by distance\n",
        "  distancelist.sort()\n",
        "  return distancelist"
      ]
    },
    {
      "cell_type": "markdown",
      "metadata": {
        "id": "B_Lt4Pe6QDFk"
      },
      "source": [
        "# Weight Functions"
      ]
    },
    {
      "cell_type": "code",
      "execution_count": null,
      "metadata": {
        "id": "XLyRnLdXQCv_"
      },
      "outputs": [],
      "source": [
        "def inverseweight(dist,num=1.0,const=0.1):\n",
        "  return num/(dist+const)"
      ]
    },
    {
      "cell_type": "code",
      "execution_count": null,
      "metadata": {
        "id": "CeddIWdnQFx4"
      },
      "outputs": [],
      "source": [
        "def subtractweight(dist,const=1.0):\n",
        "  if dist>const: \n",
        "    return 0\n",
        "  else: \n",
        "    return const-dist"
      ]
    },
    {
      "cell_type": "code",
      "execution_count": null,
      "metadata": {
        "id": "xL9sGZWLQHPH"
      },
      "outputs": [],
      "source": [
        "def gaussian(dist,sigma=5.0):\n",
        "  return math.e**(-dist**2/(2*sigma**2))"
      ]
    },
    {
      "cell_type": "markdown",
      "metadata": {
        "id": "-PILLVcWgTdD"
      },
      "source": [
        "# kNN Estimate"
      ]
    },
    {
      "cell_type": "code",
      "execution_count": null,
      "metadata": {
        "id": "5LIsgv59gZOd"
      },
      "outputs": [],
      "source": [
        "def knnestimate(data,vec1,k=5):\n",
        "  # Get sorted distances\n",
        "  dlist=getdistances(data,vec1)\n",
        "  avg=0.0\n",
        "  \n",
        "  # Take the average of the top k results\n",
        "  for i in range(k):\n",
        "    idx=dlist[i][1]\n",
        "    avg+=data[idx]['result']\n",
        "  avg=avg/k\n",
        "  return avg"
      ]
    },
    {
      "cell_type": "code",
      "execution_count": null,
      "metadata": {
        "id": "I1IUQKc9Y5Yh"
      },
      "outputs": [],
      "source": [
        "def weightedknn(data,vec1,k=5,weightf=gaussian):\n",
        "  # Get distances\n",
        "  dlist=getdistances(data,vec1)\n",
        "  avg=0.0\n",
        "  totalweight=0.0\n",
        "  \n",
        "  # Get weighted average\n",
        "  for i in range(k):\n",
        "    dist=dlist[i][0]\n",
        "    idx=dlist[i][1]\n",
        "    weight=weightf(dist)\n",
        "    avg+=weight*data[idx]['result']\n",
        "    totalweight+=weight\n",
        "  if totalweight==0: return 0\n",
        "  avg=avg/totalweight\n",
        "  return avg"
      ]
    },
    {
      "cell_type": "markdown",
      "metadata": {
        "id": "L4_tjQpsbg8q"
      },
      "source": [
        "## Examples - Weighted vs. Non-Weighted "
      ]
    },
    {
      "cell_type": "code",
      "execution_count": null,
      "metadata": {
        "id": "J-e4hOGMbn_Y"
      },
      "outputs": [],
      "source": [
        "data = wineset1()"
      ]
    },
    {
      "cell_type": "code",
      "execution_count": null,
      "metadata": {
        "id": "AzhtnoYibyCW"
      },
      "outputs": [],
      "source": [
        "wineprice(99.0, 5.0)"
      ]
    },
    {
      "cell_type": "code",
      "execution_count": null,
      "metadata": {
        "id": "a29ItkWMb4lW"
      },
      "outputs": [],
      "source": [
        "knnestimate(data,(99.0,5.0))"
      ]
    },
    {
      "cell_type": "code",
      "execution_count": null,
      "metadata": {
        "id": "gbJiVUEFcBV5"
      },
      "outputs": [],
      "source": [
        "weightedknn(data,(99.0,5.0))"
      ]
    },
    {
      "cell_type": "code",
      "execution_count": null,
      "metadata": {
        "id": "EUgoiQP2cLXK"
      },
      "outputs": [],
      "source": [
        "weightedknn(data,(99.0,5.0), k=10)"
      ]
    },
    {
      "cell_type": "code",
      "execution_count": null,
      "metadata": {
        "id": "48W5t3AkcOs8"
      },
      "outputs": [],
      "source": [
        "weightedknn(data,(99.0,5.0), k=20)"
      ]
    },
    {
      "cell_type": "markdown",
      "metadata": {
        "id": "EabZzvhxGeLJ"
      },
      "source": [
        "# Cross-Validation"
      ]
    },
    {
      "cell_type": "code",
      "execution_count": null,
      "metadata": {
        "id": "iI4d19ihGfiF"
      },
      "outputs": [],
      "source": [
        "def dividedata(data,test=0.05):\n",
        "  trainset=[]\n",
        "  testset=[]\n",
        "  for row in data:\n",
        "    if random()<test:\n",
        "      testset.append(row)\n",
        "    else:\n",
        "      trainset.append(row)\n",
        "  return trainset,testset"
      ]
    },
    {
      "cell_type": "code",
      "execution_count": null,
      "metadata": {
        "id": "3rjCJz-qGh32"
      },
      "outputs": [],
      "source": [
        "def testalgorithm(algf,trainset,testset):\n",
        "  error=0.0\n",
        "  for row in testset:\n",
        "    guess=algf(trainset,row['input'])\n",
        "    error+=(row['result']-guess)**2\n",
        "    #print row['result'],guess\n",
        "  #print error/len(testset)\n",
        "  return error/len(testset)"
      ]
    },
    {
      "cell_type": "code",
      "execution_count": null,
      "metadata": {
        "id": "GUCIYg_uGjy8"
      },
      "outputs": [],
      "source": [
        "def crossvalidate(algf,data,trials=100,test=0.1):\n",
        "  error=0.0\n",
        "  for i in range(trials):\n",
        "    trainset,testset=dividedata(data,test)\n",
        "    error+=testalgorithm(algf,trainset,testset)\n",
        "  return error/trials"
      ]
    },
    {
      "cell_type": "markdown",
      "metadata": {
        "id": "_UoHLWU6GsLc"
      },
      "source": [
        "## Examples - Cross-Validation"
      ]
    },
    {
      "cell_type": "code",
      "execution_count": null,
      "metadata": {
        "id": "IAj9NeWAG8CK"
      },
      "outputs": [],
      "source": [
        "def knn3(d,v): return knnestimate(d,v,k=3)\n",
        "\n",
        "def knn1(d,v): return knnestimate(d,v,k=1) \n",
        "\n",
        "def wknn3(d,v): return weightedknn(d,v,k=3)\n",
        "\n",
        "def wknn1(d,v): return weightedknn(d,v,k=1)\n",
        "\n",
        "def wknn5inverse(d,v): return weightedknn(d,v,weightf=inverseweight)"
      ]
    },
    {
      "cell_type": "code",
      "execution_count": null,
      "metadata": {
        "id": "XY5y3g60G9hh"
      },
      "outputs": [],
      "source": [
        "crossvalidate(knnestimate,data)"
      ]
    },
    {
      "cell_type": "code",
      "execution_count": null,
      "metadata": {
        "id": "sxU6SQJTG_J5"
      },
      "outputs": [],
      "source": [
        "crossvalidate(knn3,data)"
      ]
    },
    {
      "cell_type": "code",
      "execution_count": null,
      "metadata": {
        "id": "FojnA_HQHBs5"
      },
      "outputs": [],
      "source": [
        "crossvalidate(knn1,data) "
      ]
    },
    {
      "cell_type": "code",
      "execution_count": null,
      "metadata": {
        "id": "89SnmjixHDsi"
      },
      "outputs": [],
      "source": [
        "crossvalidate(weightedknn,data)"
      ]
    },
    {
      "cell_type": "code",
      "execution_count": null,
      "metadata": {
        "id": "KTNeIZVpHEAl"
      },
      "outputs": [],
      "source": [
        "crossvalidate(wknn3,data) "
      ]
    },
    {
      "cell_type": "code",
      "execution_count": null,
      "metadata": {
        "id": "V7gC0rGkHFPm"
      },
      "outputs": [],
      "source": [
        "crossvalidate(wknn1,data)"
      ]
    },
    {
      "cell_type": "code",
      "execution_count": null,
      "metadata": {
        "id": "moxQ2V_dHGhG"
      },
      "outputs": [],
      "source": [
        "crossvalidate(wknn5inverse,data) "
      ]
    },
    {
      "cell_type": "markdown",
      "metadata": {
        "id": "WRyuIwlZHJsb"
      },
      "source": [
        "# Rescaling"
      ]
    },
    {
      "cell_type": "code",
      "execution_count": null,
      "metadata": {
        "id": "0CD1Nb9RHMKw"
      },
      "outputs": [],
      "source": [
        "def wineset2():\n",
        "  rows=[]\n",
        "  for i in range(300):\n",
        "    rating=random()*50+50\n",
        "    age=random()*50\n",
        "    aisle=float(randint(1,20))\n",
        "    bottlesize=[375.0,750.0,1500.0][randint(0,2)]\n",
        "    price=wineprice(rating,age)\n",
        "    price*=(bottlesize/750)\n",
        "    price*=(random()*0.2+0.9)\n",
        "    rows.append({'input':(rating,age,aisle,bottlesize),\n",
        "                 'result':price})\n",
        "  return rows"
      ]
    },
    {
      "cell_type": "code",
      "execution_count": null,
      "metadata": {
        "id": "udI007_7HObj"
      },
      "outputs": [],
      "source": [
        "def rescale(data,scale):\n",
        "  scaleddata=[]\n",
        "  for row in data:\n",
        "    scaled=[scale[i]*row['input'][i] for i in range(len(scale))]\n",
        "    scaleddata.append({'input':scaled,'result':row['result']})\n",
        "  return scaleddata"
      ]
    },
    {
      "cell_type": "markdown",
      "metadata": {
        "id": "mySmfAHqHRcg"
      },
      "source": [
        "## Examples - Rescaling"
      ]
    },
    {
      "cell_type": "code",
      "execution_count": null,
      "metadata": {
        "id": "PuV6S-EfHSvA"
      },
      "outputs": [],
      "source": [
        "data2 = wineset2() "
      ]
    },
    {
      "cell_type": "code",
      "execution_count": null,
      "metadata": {
        "id": "M-bWX0OqHVJQ"
      },
      "outputs": [],
      "source": [
        "data2[0:4]"
      ]
    },
    {
      "cell_type": "code",
      "execution_count": null,
      "metadata": {
        "id": "STiIBYUWHYef"
      },
      "outputs": [],
      "source": [
        "crossvalidate(knn3,data) "
      ]
    },
    {
      "cell_type": "code",
      "execution_count": null,
      "metadata": {
        "id": "zOp-LxyLHaXE"
      },
      "outputs": [],
      "source": [
        "crossvalidate(knn3,data2) "
      ]
    },
    {
      "cell_type": "code",
      "execution_count": null,
      "metadata": {
        "id": "bfQgTBnkHb-6"
      },
      "outputs": [],
      "source": [
        "crossvalidate(weightedknn,data)"
      ]
    },
    {
      "cell_type": "code",
      "execution_count": null,
      "metadata": {
        "id": "pictpTPsHdWr"
      },
      "outputs": [],
      "source": [
        "crossvalidate(weightedknn,data2)"
      ]
    },
    {
      "cell_type": "code",
      "execution_count": null,
      "metadata": {
        "id": "5NGJcASSHhsH"
      },
      "outputs": [],
      "source": [
        "sdata=rescale(data2,[10,10,0,0.5])"
      ]
    },
    {
      "cell_type": "code",
      "execution_count": null,
      "metadata": {
        "id": "EEEWqF3pHkdo"
      },
      "outputs": [],
      "source": [
        "crossvalidate(knn3,sdata) "
      ]
    },
    {
      "cell_type": "code",
      "execution_count": null,
      "metadata": {
        "id": "mpe62_dRHltl"
      },
      "outputs": [],
      "source": [
        "crossvalidate(weightedknn,sdata) "
      ]
    },
    {
      "cell_type": "markdown",
      "metadata": {
        "id": "ZNLRV_r5HrNt"
      },
      "source": [
        "# Optimization"
      ]
    },
    {
      "cell_type": "code",
      "execution_count": null,
      "metadata": {
        "id": "BruyX7-RHsZ-"
      },
      "outputs": [],
      "source": [
        "def createcostfunction(algf,data):\n",
        "  def costf(scale):\n",
        "    sdata=rescale(data,scale)\n",
        "    return crossvalidate(algf,sdata,trials=20)\n",
        "  return costf"
      ]
    },
    {
      "cell_type": "code",
      "execution_count": null,
      "metadata": {
        "id": "rxvN228iHutG"
      },
      "outputs": [],
      "source": [
        "weightdomain=[(0,20)]*4"
      ]
    },
    {
      "cell_type": "markdown",
      "metadata": {
        "id": "Xte4ToKFHy67"
      },
      "source": [
        "## Optimization Code from Ch 5\n",
        "\n",
        "https://github.com/arthur-e/Programming-Collective-Intelligence/blob/master/chapter5\n",
        "\n",
        "Notes: \n",
        "* Because we've already imported `random` and `randint` (top cell), I've removed the `random.` in front of all of the calls to `random` and `randint` in these two functions.\n",
        "* In geneticoptimize(), I added parenthesis in the `print` statement and fixed a typo (`mutprob` -> `mutprod`)"
      ]
    },
    {
      "cell_type": "code",
      "execution_count": null,
      "metadata": {
        "id": "ZV8UODXMH8SF"
      },
      "outputs": [],
      "source": [
        "def annealingoptimize(domain,costf,T=10000.0,cool=0.95,step=1):\n",
        "  # Initialize the values randomly\n",
        "  vec=[float(randint(domain[i][0],domain[i][1])) \n",
        "       for i in range(len(domain))]\n",
        "  \n",
        "  while T>0.1:\n",
        "    # Choose one of the indices\n",
        "    i=randint(0,len(domain)-1)\n",
        "\n",
        "    # Choose a direction to change it\n",
        "    dir=randint(-step,step)\n",
        "\n",
        "    # Create a new list with one of the values changed\n",
        "    vecb=vec[:]\n",
        "    vecb[i]+=dir\n",
        "    if vecb[i]<domain[i][0]: vecb[i]=domain[i][0]\n",
        "    elif vecb[i]>domain[i][1]: vecb[i]=domain[i][1]\n",
        "\n",
        "    # Calculate the current cost and the new cost\n",
        "    ea=costf(vec)\n",
        "    eb=costf(vecb)\n",
        "    p=pow(math.e,(-eb-ea)/T)\n",
        "\n",
        "    # Is it better, or does it make the probability\n",
        "    # cutoff?\n",
        "    if (eb<ea or random()<p):\n",
        "      vec=vecb      \n",
        "\n",
        "    # Decrease the temperature\n",
        "    T=T*cool\n",
        "  return vec"
      ]
    },
    {
      "cell_type": "code",
      "execution_count": null,
      "metadata": {
        "id": "tMWmhtlYIBUD"
      },
      "outputs": [],
      "source": [
        "def geneticoptimize(domain,costf,popsize=50,step=1,\n",
        "                    mutprod=0.2,elite=0.2,maxiter=100):\n",
        "  # Mutation Operation\n",
        "  def mutate(vec):\n",
        "    i=randint(0,len(domain)-1)\n",
        "    if random()<0.5 and vec[i]>domain[i][0]:\n",
        "      return vec[0:i]+[vec[i]-step]+vec[i+1:] \n",
        "    elif vec[i]<domain[i][1]:\n",
        "      return vec[0:i]+[vec[i]+step]+vec[i+1:]\n",
        "  \n",
        "  # Crossover Operation\n",
        "  def crossover(r1,r2):\n",
        "    i=randint(1,len(domain)-2)\n",
        "    return r1[0:i]+r2[i:]\n",
        "\n",
        "  # Build the initial population\n",
        "  pop=[]\n",
        "  for i in range(popsize):\n",
        "    vec=[randint(domain[i][0],domain[i][1]) \n",
        "         for i in range(len(domain))]\n",
        "    pop.append(vec)\n",
        "  \n",
        "  # How many winners from each generation?\n",
        "  topelite=int(elite*popsize)\n",
        "  \n",
        "  # Main loop \n",
        "  for i in range(maxiter):\n",
        "    scores=[(costf(v),v) for v in pop]\n",
        "    scores.sort()\n",
        "    ranked=[v for (s,v) in scores]\n",
        "    \n",
        "    # Start with the pure winners\n",
        "    pop=ranked[0:topelite]\n",
        "    \n",
        "    # Add mutated and bred forms of the winners\n",
        "    while len(pop)<popsize:\n",
        "      if random()<mutprod:\n",
        "\n",
        "        # Mutation\n",
        "        c=randint(0,topelite)\n",
        "        pop.append(mutate(ranked[c]))\n",
        "      else:\n",
        "      \n",
        "        # Crossover\n",
        "        c1=randint(0,topelite)\n",
        "        c2=randint(0,topelite)\n",
        "        pop.append(crossover(ranked[c1],ranked[c2]))\n",
        "    \n",
        "    # Print current best score\n",
        "    print (scores[0][0])\n",
        "    \n",
        "  return scores[0][1]"
      ]
    },
    {
      "cell_type": "markdown",
      "metadata": {
        "id": "fHFhylZRIFnI"
      },
      "source": [
        "## Examples - Optimization"
      ]
    },
    {
      "cell_type": "code",
      "execution_count": null,
      "metadata": {
        "id": "80e9H20hIMu7"
      },
      "outputs": [],
      "source": [
        "costf=createcostfunction(knnestimate,data2) "
      ]
    },
    {
      "cell_type": "code",
      "execution_count": null,
      "metadata": {
        "id": "PvsS6ZbCIPur"
      },
      "outputs": [],
      "source": [
        "annealingoptimize(weightdomain,costf,step=2)"
      ]
    },
    {
      "cell_type": "code",
      "execution_count": null,
      "metadata": {
        "id": "2oZVvcTTIRjk"
      },
      "outputs": [],
      "source": [
        "annealingoptimize(weightdomain,costf,step=2) "
      ]
    },
    {
      "cell_type": "code",
      "execution_count": null,
      "metadata": {
        "id": "-cvmFAmIISy5"
      },
      "outputs": [],
      "source": [
        "annealingoptimize(weightdomain,costf,step=2) "
      ]
    },
    {
      "cell_type": "code",
      "execution_count": null,
      "metadata": {
        "id": "_-NKzZGvIV2j"
      },
      "outputs": [],
      "source": [
        "geneticoptimize(weightdomain,costf,popsize=5)"
      ]
    }
  ],
  "metadata": {
    "colab": {
      "authorship_tag": "ABX9TyMdfjo/LXLniBLVuqf5p4WH",
      "collapsed_sections": [],
      "include_colab_link": true,
      "name": "PCI-Ch08.ipynb",
      "provenance": [],
      "toc_visible": true
    },
    "kernelspec": {
      "display_name": "Python 3",
      "language": "python",
      "name": "python3"
    },
    "language_info": {
      "name": "python",
      "version": "3.8.10 (default, Jun 22 2022, 20:18:18) \n[GCC 9.4.0]"
    },
    "vscode": {
      "interpreter": {
        "hash": "31f2aee4e71d21fbe5cf8b01ff0e069b9275f58929596ceb00d14d90e3e16cd6"
      }
    }
  },
  "nbformat": 4,
  "nbformat_minor": 0
}
