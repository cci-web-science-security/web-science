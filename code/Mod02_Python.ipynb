{
  "cells": [
    {
      "attachments": {},
      "cell_type": "markdown",
      "metadata": {
        "colab_type": "text",
        "id": "view-in-github"
      },
      "source": [
        "<a href=\"https://colab.research.google.com/github/odu-cs432-websci/public-cova-cci/blob/main/code/Mod02_Python.ipynb\" target=\"_parent\"><img src=\"https://colab.research.google.com/assets/colab-badge.svg\" alt=\"Open In Colab\"/></a>"
      ]
    },
    {
      "attachments": {},
      "cell_type": "markdown",
      "metadata": {
        "id": "tV4fe0DCfd1a"
      },
      "source": [
        "# Module 02 - Python\n",
        "\n",
        "This notebook goes along with the Module-02 Python slides.\n",
        "\n",
        "Google Colab tutorials and references:\n",
        "* [Overview of Colaboratory Features](https://colab.research.google.com/notebooks/basic_features_overview.ipynb)\n",
        "* [Welcome to Colaboratory](https://colab.research.google.com/notebooks/welcome.ipynb)\n",
        "* [Loading Data](https://colab.research.google.com/notebooks/io.ipynb)\n",
        "* [Colab and GitHub](https://colab.research.google.com/github/googlecolab/colabtools/blob/master/notebooks/colab-github-demo.ipynb)"
      ]
    },
    {
      "cell_type": "markdown",
      "metadata": {
        "id": "uNLQepV3f9_8"
      },
      "source": [
        "## Interactive Python Shell"
      ]
    },
    {
      "cell_type": "markdown",
      "metadata": {
        "id": "nHvxncu0ggRX"
      },
      "source": [
        "*Print Python version used in the notebook*"
      ]
    },
    {
      "cell_type": "code",
      "execution_count": null,
      "metadata": {
        "id": "P8w3OpwFgAm7"
      },
      "outputs": [],
      "source": [
        "import platform; print(platform.python_version())"
      ]
    },
    {
      "cell_type": "code",
      "execution_count": null,
      "metadata": {
        "id": "eUnHDzUkgpHt"
      },
      "outputs": [],
      "source": [
        "help(print)"
      ]
    },
    {
      "cell_type": "code",
      "execution_count": null,
      "metadata": {
        "id": "zzeTWQzogrKw"
      },
      "outputs": [],
      "source": [
        "print(\"Hello World!\")"
      ]
    },
    {
      "cell_type": "code",
      "execution_count": null,
      "metadata": {
        "id": "x3fS5jHrgsvF"
      },
      "outputs": [],
      "source": [
        "2 + 3 * 4 / 5"
      ]
    },
    {
      "cell_type": "markdown",
      "metadata": {
        "id": "IoMgafEvjOAS"
      },
      "source": [
        "## Data Types"
      ]
    },
    {
      "cell_type": "markdown",
      "metadata": {
        "id": "M7wUX9B8hDiB"
      },
      "source": [
        "### String vs. Bytes"
      ]
    },
    {
      "cell_type": "code",
      "execution_count": null,
      "metadata": {
        "id": "ZL9huvCGhJKo"
      },
      "outputs": [],
      "source": [
        "b\"Hello\".decode()"
      ]
    },
    {
      "cell_type": "code",
      "execution_count": null,
      "metadata": {
        "id": "gcoqJCW8hKdA"
      },
      "outputs": [],
      "source": [
        "\"Hello\".encode()"
      ]
    },
    {
      "cell_type": "markdown",
      "metadata": {
        "id": "O5UsTqOjHgky"
      },
      "source": [
        "### Strings"
      ]
    },
    {
      "cell_type": "code",
      "execution_count": null,
      "metadata": {
        "id": "bc04roodHwxU"
      },
      "outputs": [],
      "source": [
        "\"Python\"+\"Rocks\""
      ]
    },
    {
      "cell_type": "code",
      "execution_count": null,
      "metadata": {
        "id": "F__LN5fYHxxW"
      },
      "outputs": [],
      "source": [
        "\"Python\" * 2"
      ]
    },
    {
      "cell_type": "code",
      "execution_count": null,
      "metadata": {
        "id": "v7clTmJ8V30V"
      },
      "outputs": [],
      "source": [
        "len(\"Python\")"
      ]
    },
    {
      "cell_type": "code",
      "execution_count": null,
      "metadata": {
        "id": "gEQ7GxoGWD3s"
      },
      "outputs": [],
      "source": [
        "\"Python\"[2]"
      ]
    },
    {
      "cell_type": "code",
      "execution_count": null,
      "metadata": {
        "id": "ewjG3Mb8Hy4D"
      },
      "outputs": [],
      "source": [
        "\"Python\"[2:4]"
      ]
    },
    {
      "cell_type": "code",
      "execution_count": null,
      "metadata": {
        "id": "8grCZFaeISog"
      },
      "outputs": [],
      "source": [
        "\"Python\"[:4]"
      ]
    },
    {
      "cell_type": "code",
      "execution_count": null,
      "metadata": {
        "id": "I3NoGP9nH1Ck"
      },
      "outputs": [],
      "source": [
        "\"th\" in \"Python\""
      ]
    },
    {
      "cell_type": "code",
      "execution_count": null,
      "metadata": {
        "id": "zXexic5sHkas"
      },
      "outputs": [],
      "source": [
        "\"Python\" < \"ZOO\""
      ]
    },
    {
      "cell_type": "markdown",
      "metadata": {
        "id": "M1NtxPrUh8mv"
      },
      "source": [
        "### List"
      ]
    },
    {
      "cell_type": "code",
      "execution_count": null,
      "metadata": {
        "id": "-XNaG2R5h95X"
      },
      "outputs": [],
      "source": [
        "mylist = [0, 'a', \"hello\", 1, 2, ['b', 'c', 'd']]"
      ]
    },
    {
      "cell_type": "code",
      "execution_count": null,
      "metadata": {
        "id": "Vj3W47_XixpA"
      },
      "outputs": [],
      "source": [
        "mylist [1]"
      ]
    },
    {
      "cell_type": "code",
      "execution_count": null,
      "metadata": {
        "id": "gPW8jbx5i0jI"
      },
      "outputs": [],
      "source": [
        "mylist[:2]"
      ]
    },
    {
      "cell_type": "code",
      "execution_count": null,
      "metadata": {
        "id": "ZmwsmgNxi16m"
      },
      "outputs": [],
      "source": [
        "mylist[3:]"
      ]
    },
    {
      "cell_type": "code",
      "execution_count": null,
      "metadata": {
        "id": "ISfbmPTy7ZP4"
      },
      "outputs": [],
      "source": [
        "mylist [5][1]"
      ]
    },
    {
      "cell_type": "code",
      "execution_count": null,
      "metadata": {
        "id": "WEFmubpB7GNj"
      },
      "outputs": [],
      "source": [
        "mylist.index(\"hello\")"
      ]
    },
    {
      "cell_type": "code",
      "execution_count": null,
      "metadata": {
        "id": "kT85-teZi5mF"
      },
      "outputs": [],
      "source": [
        "mylist.remove('a')\n",
        "mylist"
      ]
    },
    {
      "cell_type": "code",
      "execution_count": null,
      "metadata": {
        "id": "e5_AEVif3xzc"
      },
      "outputs": [],
      "source": [
        "mylist.sort()"
      ]
    },
    {
      "cell_type": "code",
      "execution_count": null,
      "metadata": {
        "id": "TuMTir012wwi"
      },
      "outputs": [],
      "source": [
        "unsorted = [32, 18, 17, 2, 5]"
      ]
    },
    {
      "cell_type": "code",
      "execution_count": null,
      "metadata": {
        "id": "j09AzUPp3ABn"
      },
      "outputs": [],
      "source": [
        "unsorted.sort()\n",
        "unsorted"
      ]
    },
    {
      "cell_type": "markdown",
      "metadata": {
        "id": "j8qhpJwrjDQU"
      },
      "source": [
        "### Tuple"
      ]
    },
    {
      "cell_type": "code",
      "execution_count": null,
      "metadata": {
        "id": "6DCmir_NjEuE"
      },
      "outputs": [],
      "source": [
        "X = (0, 1, 'a', 4, 3)\n",
        "print (X[3])"
      ]
    },
    {
      "cell_type": "code",
      "execution_count": null,
      "metadata": {
        "id": "xMU_H56j-H4B"
      },
      "outputs": [],
      "source": [
        "X[0] = 'b'"
      ]
    },
    {
      "cell_type": "markdown",
      "metadata": {
        "id": "5eSzWzhHjKNr"
      },
      "source": [
        "### Dictionary"
      ]
    },
    {
      "cell_type": "code",
      "execution_count": null,
      "metadata": {
        "id": "d87Z9hTzjVY6"
      },
      "outputs": [],
      "source": [
        "marks = {\"science\": 90, \"art\": 25}\n",
        "print(marks[\"art\"])"
      ]
    },
    {
      "cell_type": "code",
      "execution_count": null,
      "metadata": {
        "id": "U4QpYaEajX-5"
      },
      "outputs": [],
      "source": [
        "marks[\"chemistry\"] = 75"
      ]
    },
    {
      "cell_type": "code",
      "execution_count": null,
      "metadata": {
        "id": "9Fv4xOh5jZaa"
      },
      "outputs": [],
      "source": [
        "print(marks.keys())"
      ]
    },
    {
      "cell_type": "code",
      "execution_count": null,
      "metadata": {
        "id": "Na0AazoOjanZ"
      },
      "outputs": [],
      "source": [
        "dict = { \"fish\": 12, \"cat\": 7}"
      ]
    },
    {
      "cell_type": "code",
      "execution_count": null,
      "metadata": {
        "id": "yNA-SoVKB9Xy"
      },
      "outputs": [],
      "source": [
        "'dog' in dict"
      ]
    },
    {
      "cell_type": "code",
      "execution_count": null,
      "metadata": {
        "id": "1_fTtk35jmMA"
      },
      "outputs": [],
      "source": [
        "dict.keys()"
      ]
    },
    {
      "cell_type": "code",
      "execution_count": null,
      "metadata": {
        "id": "qexlAgcqjiX3"
      },
      "outputs": [],
      "source": [
        "dict.values()"
      ]
    },
    {
      "cell_type": "code",
      "execution_count": null,
      "metadata": {
        "id": "kb7TSQ_Xjnlv"
      },
      "outputs": [],
      "source": [
        "dict.items()"
      ]
    },
    {
      "cell_type": "code",
      "execution_count": null,
      "metadata": {
        "id": "K837kgunjovX"
      },
      "outputs": [],
      "source": [
        "dict[\"fish\"] = 14\n",
        "dict.items()"
      ]
    },
    {
      "cell_type": "markdown",
      "metadata": {
        "id": "QcGngIrMj85c"
      },
      "source": [
        "## User Input"
      ]
    },
    {
      "cell_type": "code",
      "execution_count": null,
      "metadata": {
        "id": "wmI0ZcZ2j-Ic"
      },
      "outputs": [],
      "source": [
        "x = input()\n",
        "x"
      ]
    },
    {
      "cell_type": "code",
      "execution_count": null,
      "metadata": {
        "id": "MP7atIqwkB3k"
      },
      "outputs": [],
      "source": [
        "x = input('Enter the number: ')\n",
        "x"
      ]
    },
    {
      "cell_type": "markdown",
      "metadata": {
        "id": "RtJ44zr1kH-S"
      },
      "source": [
        "Evaluate User Input"
      ]
    },
    {
      "cell_type": "code",
      "execution_count": null,
      "metadata": {
        "id": "qpt3qq9pkJvi"
      },
      "outputs": [],
      "source": [
        "x = input()"
      ]
    },
    {
      "cell_type": "code",
      "execution_count": null,
      "metadata": {
        "id": "33SOiTMvkNpi"
      },
      "outputs": [],
      "source": [
        "x"
      ]
    },
    {
      "cell_type": "code",
      "execution_count": null,
      "metadata": {
        "id": "xFxC06rzkO5x"
      },
      "outputs": [],
      "source": [
        "eval(x)"
      ]
    },
    {
      "cell_type": "markdown",
      "metadata": {
        "id": "q5Q_HhkukUKg"
      },
      "source": [
        "## Files\n",
        "\n",
        "### Accessing Files from Colab Notebook\n",
        "\n",
        "There are a couple different ways to access files from the Google Colab notebook:\n",
        "1. Upload the file\n",
        "2. Connect a Google Drive \n",
        "\n",
        "For either, open the Files sidebar and click either 'Upload' for option 1 or 'Mount Drive' for option 2.\n",
        "\n",
        "Every notebook has a sample_data folder for use.  We'll use this for the demo here."
      ]
    },
    {
      "cell_type": "markdown",
      "metadata": {
        "id": "DdvJ00xGxRXM"
      },
      "source": [
        "### Reading\n",
        "*read a single line*"
      ]
    },
    {
      "cell_type": "code",
      "execution_count": null,
      "metadata": {
        "id": "25FbeDb9xOiw"
      },
      "outputs": [],
      "source": [
        "f = open(\"sample_data/README.md\", \"r\")\n",
        "line = f.readline()\n",
        "print (line)\n",
        "f.close()"
      ]
    },
    {
      "cell_type": "markdown",
      "metadata": {
        "id": "_6xa4Iy4GuzI"
      },
      "source": [
        "*read all lines in from file*"
      ]
    },
    {
      "cell_type": "code",
      "execution_count": null,
      "metadata": {
        "id": "Pn-RStabGxSA"
      },
      "outputs": [],
      "source": [
        "f = open(\"sample_data/README.md\", \"r\")\n",
        "lines = f.readlines()\n",
        "for line in lines:\n",
        "  print (line)\n",
        "f.close()"
      ]
    },
    {
      "cell_type": "markdown",
      "metadata": {
        "id": "rzFM2yLBqSnd"
      },
      "source": [
        "*another way of reading in all lines*"
      ]
    },
    {
      "cell_type": "code",
      "execution_count": null,
      "metadata": {
        "id": "5Qu3x8mDqyeX"
      },
      "outputs": [],
      "source": [
        "f = open(\"sample_data/README.md\", \"r\")\n",
        "for line in f:\n",
        "  print(line)"
      ]
    },
    {
      "cell_type": "markdown",
      "metadata": {
        "id": "sh71R2kGxqPy"
      },
      "source": [
        "### Writing"
      ]
    },
    {
      "cell_type": "code",
      "execution_count": null,
      "metadata": {
        "id": "Ry7AM2gRxyh6"
      },
      "outputs": [],
      "source": [
        "line = \"This is a line to write to a file\"\n",
        "f = open (\"new_file.txt\", \"w\")\n",
        "f.write(line)\n",
        "f.close()"
      ]
    },
    {
      "cell_type": "markdown",
      "metadata": {
        "id": "Q-xI6VEkx5GJ"
      },
      "source": [
        "*After you run this, click 'Refresh' in the Files sidebar and you should see the new file*"
      ]
    },
    {
      "cell_type": "markdown",
      "metadata": {
        "id": "AC7SeBMBk4yC"
      },
      "source": [
        "## Control Flow"
      ]
    },
    {
      "cell_type": "markdown",
      "metadata": {
        "id": "QgYUI4Iurhxv"
      },
      "source": [
        "### Conditional"
      ]
    },
    {
      "cell_type": "code",
      "execution_count": null,
      "metadata": {
        "id": "6z7aezvflF_H"
      },
      "outputs": [],
      "source": [
        "score = input ('Enter the exam score: ')"
      ]
    },
    {
      "cell_type": "markdown",
      "metadata": {
        "id": "k_tf6VGElb1l"
      },
      "source": [
        "*Need to convert user input `score` to integer before entering conditional*"
      ]
    },
    {
      "cell_type": "code",
      "execution_count": null,
      "metadata": {
        "id": "g_ZK5FNxk8CZ"
      },
      "outputs": [],
      "source": [
        "score = int(score)\n",
        "if score == 100:\n",
        "      print(\"You scored a hundred!\")\n",
        "elif score > 80:\n",
        "      print(\"You are an awesome student!\")\n",
        "else:\n",
        "      print(\"Go and study!\")"
      ]
    },
    {
      "cell_type": "markdown",
      "metadata": {
        "id": "4R1sV23hrmMG"
      },
      "source": [
        "### While"
      ]
    },
    {
      "cell_type": "code",
      "execution_count": null,
      "metadata": {
        "id": "TWs8eFvYro3g"
      },
      "outputs": [],
      "source": [
        "i = 0\n",
        "while i < 10:\n",
        "    print(i)\n",
        "    i = i + 1"
      ]
    },
    {
      "cell_type": "markdown",
      "metadata": {
        "id": "PjxceQ2grwnB"
      },
      "source": [
        "### For"
      ]
    },
    {
      "cell_type": "code",
      "execution_count": null,
      "metadata": {
        "id": "Tc0VlzqcryRH"
      },
      "outputs": [],
      "source": [
        "for i in range(10):\n",
        "\t print(i)"
      ]
    },
    {
      "cell_type": "markdown",
      "metadata": {
        "id": "HywCYgHThUiy"
      },
      "source": [
        "*Here are a few more examples about `range()`, using start, stop, step arguments*"
      ]
    },
    {
      "cell_type": "code",
      "execution_count": null,
      "metadata": {
        "id": "zbilbrtVhZMW"
      },
      "outputs": [],
      "source": [
        "for i in range (1, 6):\n",
        "  print (i)"
      ]
    },
    {
      "cell_type": "code",
      "execution_count": null,
      "metadata": {
        "id": "pWEoj7tYkZMW"
      },
      "outputs": [],
      "source": [
        "for i in range (1, 6, 2):\n",
        "  print(i)"
      ]
    },
    {
      "cell_type": "code",
      "execution_count": null,
      "metadata": {
        "id": "USTtXjlAr3R2"
      },
      "outputs": [],
      "source": [
        "myList = ['hany', 'john', 'smith', 'aly', 'max']\n",
        "for name in myList:\n",
        "  print(name)"
      ]
    },
    {
      "cell_type": "markdown",
      "metadata": {
        "id": "nqqYzlF-r_tk"
      },
      "source": [
        "### Blocks"
      ]
    },
    {
      "cell_type": "code",
      "execution_count": null,
      "metadata": {
        "id": "ISdcNb8IsA40"
      },
      "outputs": [],
      "source": [
        "for i in range(3):\n",
        "    print(\"Iteration {}\".format(i))\n",
        "    print(\"Done!\")"
      ]
    },
    {
      "cell_type": "markdown",
      "metadata": {
        "id": "_goQynvysFvb"
      },
      "source": [
        "*Only change is in indentation...*"
      ]
    },
    {
      "cell_type": "code",
      "execution_count": null,
      "metadata": {
        "id": "MLsCSveasDWs"
      },
      "outputs": [],
      "source": [
        "for i in range(3):\n",
        "    print(\"Iteration {}\".format(i))\n",
        "print(\"Done!\")\n"
      ]
    },
    {
      "cell_type": "markdown",
      "metadata": {
        "id": "P0vF17BKscOo"
      },
      "source": [
        "### Block Operators"
      ]
    },
    {
      "cell_type": "markdown",
      "metadata": {
        "id": "fPH6Qac2shkn"
      },
      "source": [
        "*`pass` - means to do nothing*"
      ]
    },
    {
      "cell_type": "code",
      "execution_count": null,
      "metadata": {
        "id": "ggm4HIaZsfXH"
      },
      "outputs": [],
      "source": [
        "x = 85\n",
        "if x > 80:\n",
        "\tpass\n",
        "else:\n",
        "\tprint(\"You are less than 80!\")"
      ]
    },
    {
      "cell_type": "markdown",
      "metadata": {
        "id": "7ao0PiOUsxqn"
      },
      "source": [
        "*`break` - same as in C++, quit the loop*"
      ]
    },
    {
      "cell_type": "code",
      "execution_count": null,
      "metadata": {
        "id": "bnxL0B9Lcc8e"
      },
      "outputs": [],
      "source": [
        "myList = ['hany', 'john', 'smith', 'aly', 'max']"
      ]
    },
    {
      "cell_type": "code",
      "execution_count": null,
      "metadata": {
        "id": "IEkwdr8Xs0_6"
      },
      "outputs": [],
      "source": [
        "for name in myList:\n",
        "\tif name == \"aly\":\n",
        "\t\tbreak\n",
        "\telse:\n",
        "\t\tprint(name)"
      ]
    },
    {
      "cell_type": "markdown",
      "metadata": {
        "id": "ecvoSC1Js5VM"
      },
      "source": [
        "*`continue` - same as in C++, continue to the next iteration*"
      ]
    },
    {
      "cell_type": "code",
      "execution_count": null,
      "metadata": {
        "id": "0Mrs190-s9Ki"
      },
      "outputs": [],
      "source": [
        "for name in myList:\n",
        "\tif name == \"aly\":\n",
        "\t\tcontinue\n",
        "\telse:\n",
        "\t\tprint(name)"
      ]
    },
    {
      "cell_type": "markdown",
      "metadata": {
        "id": "jiF5omPgtEYZ"
      },
      "source": [
        "## Functions"
      ]
    },
    {
      "cell_type": "markdown",
      "metadata": {
        "id": "0AXF8pARtJrg"
      },
      "source": [
        "*How can we find the largest number in a list?*\n",
        "\n",
        "**Option 1:** hard-code the logic"
      ]
    },
    {
      "cell_type": "code",
      "execution_count": null,
      "metadata": {
        "id": "tuI20k_ytOhH"
      },
      "outputs": [],
      "source": [
        "mylist = [2,5,3,7,1,8,12,4]\n",
        "maxnum = 0\n",
        "for num in mylist:\n",
        "\tif (num>maxnum):\n",
        "\t\tmaxnum = num\n",
        "print(\"The largest number is {}\".format(maxnum))"
      ]
    },
    {
      "cell_type": "markdown",
      "metadata": {
        "id": "QC1FO49QtbCY"
      },
      "source": [
        "**Option 2:** write and use a function"
      ]
    },
    {
      "cell_type": "code",
      "execution_count": null,
      "metadata": {
        "id": "sVO9PkF1tnFb"
      },
      "outputs": [],
      "source": [
        "def getMaxNumber(list_x):\n",
        "  maxnum = 0\n",
        "  for num in list_x: \n",
        "    if (num > maxnum):\n",
        "      maxnum = num\n",
        "  return maxnum"
      ]
    },
    {
      "cell_type": "code",
      "execution_count": null,
      "metadata": {
        "id": "DzeKzLO9tgyr"
      },
      "outputs": [],
      "source": [
        "maxnum = getMaxNumber(mylist)\n",
        "print(\"The largest number is {}\".format(maxnum))"
      ]
    },
    {
      "cell_type": "code",
      "execution_count": null,
      "metadata": {
        "id": "DpNWaHoehVLQ"
      },
      "outputs": [],
      "source": [
        "getMaxNumber([3, -7, 1])"
      ]
    },
    {
      "cell_type": "code",
      "execution_count": null,
      "metadata": {
        "id": "JSBvdADEhSBi"
      },
      "outputs": [],
      "source": [
        "getMaxNumber([-3, -7, -1])"
      ]
    },
    {
      "cell_type": "markdown",
      "metadata": {
        "id": "WJENupw_hcYe"
      },
      "source": [
        "Our new getMaxNumber function"
      ]
    },
    {
      "cell_type": "code",
      "execution_count": null,
      "metadata": {
        "id": "-ZjiPoV4ybIf"
      },
      "outputs": [],
      "source": [
        "def getMaxNumber(list_x):\n",
        "  maxnum = list_x[0]  # replaced maxnum = 0\n",
        "  for num in list_x:\n",
        "    if (num>maxnum):\n",
        "      maxnum = num\n",
        "  return maxnum"
      ]
    },
    {
      "cell_type": "code",
      "execution_count": null,
      "metadata": {
        "id": "oyY_vi1NzsQc"
      },
      "outputs": [],
      "source": [
        "getMaxNumber([-3, -7, -1])"
      ]
    },
    {
      "cell_type": "markdown",
      "metadata": {
        "id": "dMsMDDtMxRPG"
      },
      "source": [
        "*There's actually already a built-in function for this...*"
      ]
    },
    {
      "cell_type": "code",
      "execution_count": null,
      "metadata": {
        "id": "XTGfkvUxxU2a"
      },
      "outputs": [],
      "source": [
        "max([-3, -7, -1])"
      ]
    },
    {
      "cell_type": "markdown",
      "metadata": {
        "id": "lPeC56220JxD"
      },
      "source": [
        "*Functions can also return multiple values*"
      ]
    },
    {
      "cell_type": "code",
      "execution_count": null,
      "metadata": {
        "id": "lzbVAxbL0MpL"
      },
      "outputs": [],
      "source": [
        "def getMaxNumberAndIndex(list_x):\n",
        "  maxnum = list_x[0]\n",
        "  index = -1\n",
        "  i = 0\n",
        "  for num in list_x:\n",
        "\t  if (num>maxnum):\n",
        "\t  \tmaxnum = num\n",
        "\t  \tindex = i\n",
        "\t  i = i + 1\n",
        "  return maxnum, index"
      ]
    },
    {
      "cell_type": "code",
      "execution_count": null,
      "metadata": {
        "id": "T6kVOVrW0X6o"
      },
      "outputs": [],
      "source": [
        "mylist = [2,5,3,7,1,8,12,4]\n",
        "maxnum, idx = getMaxNumberAndIndex(mylist)\n",
        "print(\"The largest number is {} and its index is {}\" . format(maxnum, idx))"
      ]
    },
    {
      "cell_type": "markdown",
      "metadata": {
        "id": "om9sGyskSEnB"
      },
      "source": [
        "## Using Modules"
      ]
    },
    {
      "cell_type": "code",
      "execution_count": null,
      "metadata": {
        "id": "Qx-DbyhbSJNh"
      },
      "outputs": [],
      "source": [
        "import math\n",
        "print (math.sqrt(9.0))"
      ]
    },
    {
      "cell_type": "code",
      "execution_count": null,
      "metadata": {
        "id": "iQVfCC5ZSTW-"
      },
      "outputs": [],
      "source": [
        "from math import sqrt\n",
        "print (sqrt(25.0))"
      ]
    },
    {
      "cell_type": "code",
      "execution_count": null,
      "metadata": {
        "id": "2MQFpz1cno8c"
      },
      "outputs": [],
      "source": [
        "from math import sqrt as sq\n",
        "print (sq(25.0))"
      ]
    },
    {
      "cell_type": "markdown",
      "metadata": {
        "id": "kU-9iRvbXghj"
      },
      "source": [
        "## Error Handling"
      ]
    },
    {
      "cell_type": "code",
      "execution_count": null,
      "metadata": {
        "id": "1mH4qa17XiDt"
      },
      "outputs": [],
      "source": [
        "sum_grades = 300\n",
        "num_students = input()"
      ]
    },
    {
      "cell_type": "code",
      "execution_count": null,
      "metadata": {
        "id": "1g7PU5EnXmIy"
      },
      "outputs": [],
      "source": [
        "average = sum_grades / int(num_students)"
      ]
    },
    {
      "cell_type": "code",
      "execution_count": null,
      "metadata": {
        "id": "ZzasrD_ZYQ_z"
      },
      "outputs": [],
      "source": [
        "try:\n",
        "\taverage = sum_grades / int(num_students)\n",
        "except:\n",
        "\t# This catches if something wrong happens\n",
        "\tprint(\"Something wrong happened, please check it!\")\n",
        "\taverage = 0\n",
        "print(average)"
      ]
    },
    {
      "cell_type": "code",
      "execution_count": null,
      "metadata": {
        "id": "LE6EhwmwYdMS"
      },
      "outputs": [],
      "source": [
        "try:\n",
        "\taverage = sum_grades / int(num_students)\n",
        "except ZeroDivisionError:\n",
        "\t# This catches if a number was divided by zero\n",
        "\tprint(\"You tried to divide by zero!\")\n",
        "\taverage = 0\n",
        "print(average)"
      ]
    },
    {
      "cell_type": "code",
      "execution_count": null,
      "metadata": {
        "id": "BSX6lKJ0YhMn"
      },
      "outputs": [],
      "source": [
        "try:\n",
        "  num_students = input()\n",
        "  average = sum_grades / int(num_students)\n",
        "except ZeroDivisionError:\n",
        "\t# This catches if a number was divided by zero\n",
        "\tprint(\"You tried to divide by zero!\")\n",
        "\taverage = 0\n",
        "except IOError:\n",
        "\t# This catches errors happening in the input process\n",
        "\tprint(\"Something went wrong with how you enter words\")\n",
        "\taverage = 0\n",
        "print(average)"
      ]
    },
    {
      "cell_type": "markdown",
      "metadata": {
        "id": "DPuyMKHxg16S"
      },
      "source": [
        "## Automated Testing"
      ]
    },
    {
      "cell_type": "markdown",
      "metadata": {
        "id": "4BV0fB1OwsCa"
      },
      "source": [
        "*Let's add code to run some test cases on the function. `doctest` allows us to provide example function calls and expected output.*"
      ]
    },
    {
      "cell_type": "code",
      "execution_count": null,
      "metadata": {
        "id": "MW0qrgE2trGz"
      },
      "outputs": [],
      "source": [
        "def getMaxNumber(list_x):\n",
        "  \"\"\"\n",
        "  Returns the maximum number from the supplied list\n",
        "  >>> getMaxNumber([4, 7, 2, 5])\n",
        "  7\n",
        "  >>> getMaxNumber([-3, 9, 2])\n",
        "  9\n",
        "  >>> getMaxNumber([-3, -7, -1])\n",
        "  -1\n",
        "  \"\"\"\n",
        "  maxnum = 0\n",
        "  for num in list_x:\n",
        "    if (num>maxnum):\n",
        "      maxnum = num\n",
        "  return maxnum\n",
        "\n",
        "if __name__ == '__main__':\n",
        "  import doctest\n",
        "  doctest.testmod()\n",
        "  #doctest.testmod(verbose=True)  # use verbose=True to show all test cases"
      ]
    },
    {
      "cell_type": "markdown",
      "metadata": {
        "id": "UBa4MFEFyX1P"
      },
      "source": [
        "*What went wrong? `maxnum = 0`*"
      ]
    },
    {
      "cell_type": "markdown",
      "metadata": {
        "id": "4eglJSYHZcBE"
      },
      "source": [
        "## Regular Expressions"
      ]
    },
    {
      "cell_type": "code",
      "execution_count": null,
      "metadata": {
        "id": "WXN1GKkYZdTF"
      },
      "outputs": [],
      "source": [
        "import re\n",
        "request = \"HEAD /foo HTTP/1.1\"\n",
        "pattern = re.compile(r\"^([A-Z]+)\\s+(\\S+)\\s+([A-Z0-9\\/\\.]+)$\")\n",
        "m = pattern.match(request)\n",
        "m.groups()"
      ]
    },
    {
      "cell_type": "code",
      "execution_count": null,
      "metadata": {
        "id": "2ErVxj0m8RbH"
      },
      "outputs": [],
      "source": [
        "response = \"HTTP/1.1 200 OK\"\n",
        "pattern = re.compile(r\"^HTTP\\/[0-9]\\.[0-9]\\s+([0-9]+)[\\s+\\S+]+$\")\n",
        "m = pattern.match(response)\n",
        "m.groups()"
      ]
    },
    {
      "cell_type": "markdown",
      "metadata": {
        "id": "KXPeS8vm4Xs9"
      },
      "source": [
        "## requests Library"
      ]
    },
    {
      "cell_type": "markdown",
      "metadata": {
        "id": "Ar26PymlBK-I"
      },
      "source": [
        "Accessing response headers"
      ]
    },
    {
      "cell_type": "code",
      "execution_count": null,
      "metadata": {
        "id": "ZW-YwJpd4bZd"
      },
      "outputs": [],
      "source": [
        "import requests\n",
        "response = requests.get('http://example.com')\n",
        "\n",
        "print (\"Status Code: {}\".format(response.status_code))\n",
        "print (\"URI: {}\\n\".format(response.url))\n",
        "\n",
        "print (\"Headers: {}\\n\".format(response.headers))\n",
        "print (\"Date: {}\".format(response.headers['Date']))\n",
        "print (\"Content-Type: {}\".format(response.headers['Content-Type']))\n",
        "print (\"Content-Length: {}\".format(response.headers['Content-Length']))"
      ]
    },
    {
      "cell_type": "markdown",
      "metadata": {
        "id": "qPxXZz1GBOye"
      },
      "source": [
        "Using request query parameters"
      ]
    },
    {
      "cell_type": "code",
      "execution_count": null,
      "metadata": {
        "id": "dmAc9lVBBbVH"
      },
      "outputs": [],
      "source": [
        "import requests\n",
        "response = requests.get('http://google.com/search', params={'q': 'LSU'})\n",
        "print (\"URI requested: {}\".format(response.request.url))\n",
        "print (\"Status Code: {}\\n\".format(response.status_code))\n",
        "\n",
        "lines = response.text.splitlines() # split the string into a list, one line per element\n",
        "\n",
        "# use loop to only print first 5 lines of the response\n",
        "for i in range(5):\n",
        "  print(lines[i])"
      ]
    },
    {
      "cell_type": "markdown",
      "metadata": {
        "id": "8_wG_TQLDYA5"
      },
      "source": [
        "## Beautiful Soup Library"
      ]
    },
    {
      "cell_type": "markdown",
      "metadata": {
        "id": "ela1XItgECfO"
      },
      "source": [
        "*Print all the links (`a href=`) in a webpage*"
      ]
    },
    {
      "cell_type": "code",
      "execution_count": null,
      "metadata": {
        "id": "VRb3IvzJDZ0d"
      },
      "outputs": [],
      "source": [
        "from bs4 import BeautifulSoup\n",
        "import requests\n",
        "\n",
        "response = requests.get('http://google.com/search', params={'q': 'LSU'})\n",
        "\n",
        "soup = BeautifulSoup(response.text)\n",
        "for links in soup.find_all('a'):\n",
        "  print(links.get('href'))"
      ]
    },
    {
      "cell_type": "markdown",
      "metadata": {
        "id": "SfIjQ3ZuHB3b"
      },
      "source": [
        "Filter URIs -- print only links that start with `/url?q=`, strip that off, and stop at first `&`\n",
        "\n",
        "Use https://regex101.com/ for testing the regex"
      ]
    },
    {
      "cell_type": "code",
      "execution_count": null,
      "metadata": {
        "id": "Cx75kk_WHBXF"
      },
      "outputs": [],
      "source": [
        "from bs4 import BeautifulSoup\n",
        "import requests\n",
        "import re\n",
        "\n",
        "response = requests.get('http://google.com/search', params={'q': 'LSU'})\n",
        "\n",
        "pattern = re.compile('\\/url\\?q=([^&]+)')\n",
        "\n",
        "soup = BeautifulSoup(response.text)\n",
        "for links in soup.find_all('a'):\n",
        "  href = links.get('href')\n",
        "  m = pattern.match(href)\n",
        "  if (m != None):\n",
        "    print (m.groups()[0])"
      ]
    }
  ],
  "metadata": {
    "colab": {
      "authorship_tag": "ABX9TyN3h+lGBaM7ocRuB3UdZ6h3",
      "collapsed_sections": [],
      "include_colab_link": true,
      "name": "Mod02-Python.ipynb",
      "provenance": [],
      "toc_visible": true
    },
    "kernelspec": {
      "display_name": "Python 3",
      "language": "python",
      "name": "python3"
    },
    "language_info": {
      "name": "python",
      "version": "3.8.10 (default, Jun 22 2022, 20:18:18) \n[GCC 9.4.0]"
    },
    "vscode": {
      "interpreter": {
        "hash": "31f2aee4e71d21fbe5cf8b01ff0e069b9275f58929596ceb00d14d90e3e16cd6"
      }
    }
  },
  "nbformat": 4,
  "nbformat_minor": 0
}
